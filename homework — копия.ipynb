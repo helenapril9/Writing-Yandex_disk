{
 "cells": [
  {
   "cell_type": "code",
   "execution_count": 55,
   "metadata": {},
   "outputs": [],
   "source": [
    "import requests\n",
    "YANDEX_TOKEN = '******************'\n",
    "class YaDisk:\n",
    "    host = 'https://cloud-api.yandex.net'\n",
    "    def __init__(self, token):\n",
    "        self.token = token    \n",
    "    def get_headers(self):\n",
    "        return {\n",
    "            'Content-Type': 'aplication/json',\n",
    "            'Authorization': f'{self.token}'            \n",
    "        }               \n",
    "    def _get_upload_link(self, path):\n",
    "        url = f'{self.host}/v1/disk/resources/upload/'   \n",
    "        headers = self.get_headers()\n",
    "        params = {'path': path, 'overwrite': True}\n",
    "        response = requests.get(url, params = params, headers = headers)\n",
    "        return response.json().get('href')         \n",
    "      \n",
    "    def upload_file(self, path, file_name):\n",
    "        upload_link = self._get_upload_link(path)\n",
    "        headers = self.get_headers()\n",
    "        response = requests.put(upload_link, data=open(file_name, 'rb'),  headers = headers )\n",
    "        response.raise_for_status()        \n",
    "\n",
    "if __name__ == '__main__':\n",
    "    yadisk = YaDisk(YANDEX_TOKEN)       \n",
    "    yadisk.upload_file('wave01.jpg','d:\\media\\wave01.jpg')\n",
    "   "
   ]
  },
  {
   "cell_type": "code",
   "execution_count": null,
   "metadata": {},
   "outputs": [],
   "source": []
  }
 ],
 "metadata": {
  "interpreter": {
   "hash": "073e97d9edce391f5d16825652497352d8c5f972d2913fd0dc21756dd309c531"
  },
  "kernelspec": {
   "display_name": "Python 3.8.8 ('base')",
   "language": "python",
   "name": "python3"
  },
  "language_info": {
   "codemirror_mode": {
    "name": "ipython",
    "version": 3
   },
   "file_extension": ".py",
   "mimetype": "text/x-python",
   "name": "python",
   "nbconvert_exporter": "python",
   "pygments_lexer": "ipython3",
   "version": "3.8.8"
  },
  "orig_nbformat": 4
 },
 "nbformat": 4,
 "nbformat_minor": 2
}
